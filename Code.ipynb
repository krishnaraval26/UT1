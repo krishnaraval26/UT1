{
 "cells": [
  {
   "cell_type": "code",
   "execution_count": 1,
   "metadata": {},
   "outputs": [],
   "source": [
    "#Krishna Raval \n",
    "#DS\n",
    "#DL UT1"
   ]
  },
  {
   "cell_type": "code",
   "execution_count": 2,
   "metadata": {},
   "outputs": [],
   "source": [
    "import pandas as pd\n",
    "import numpy as np\n",
    "from sklearn.model_selection import train_test_split\n",
    "from sklearn.preprocessing import LabelEncoder, StandardScaler, OneHotEncoder\n",
    "from tensorflow.keras.models import Sequential\n",
    "from tensorflow.keras.layers import Dense"
   ]
  },
  {
   "cell_type": "code",
   "execution_count": 3,
   "metadata": {},
   "outputs": [],
   "source": [
    "# Load the train-data and test-data CSV file\n",
    "train_data = pd.read_csv('train-data.csv')\n",
    "test_data = pd.read_csv('test-data.csv')"
   ]
  },
  {
   "cell_type": "code",
   "execution_count": 4,
   "metadata": {},
   "outputs": [],
   "source": [
    "# Remove unnecessary columns (such as 'Serial_No' and 'New_Price')\n",
    "train_data = train_data.drop(['Serial_No', 'New_Price'], axis=1)\n",
    "test_data = test_data.drop(['Serial_No', 'New_Price'], axis=1)"
   ]
  },
  {
   "cell_type": "code",
   "execution_count": 5,
   "metadata": {},
   "outputs": [],
   "source": [
    "# Add a flag column to differentiate train and test datasets\n",
    "train_data['Flag'] = 1\n",
    "test_data['Flag'] = 0"
   ]
  },
  {
   "cell_type": "code",
   "execution_count": 6,
   "metadata": {},
   "outputs": [],
   "source": [
    "# Combine train and test data for preprocessing\n",
    "combined_data = pd.concat([train_data, test_data])"
   ]
  },
  {
   "cell_type": "code",
   "execution_count": 7,
   "metadata": {},
   "outputs": [],
   "source": [
    "# Preprocess the data\n",
    "combined_data['Mileage'] = combined_data['Mileage'].str.extract('(\\d+\\.\\d+|\\d+)').astype(float)\n",
    "combined_data['Engine'] = combined_data['Engine'].str.extract('(\\d+)').astype(float).fillna(0).astype(int)\n",
    "combined_data['Power'] = combined_data['Power'].str.extract('(\\d+\\.\\d+|\\d+)').astype(float)"
   ]
  },
  {
   "cell_type": "code",
   "execution_count": 8,
   "metadata": {},
   "outputs": [],
   "source": [
    "# Convert categorical columns to numerical using LabelEncoder\n",
    "label_encoder = LabelEncoder()\n",
    "categorical_cols = ['Name', 'Location', 'Fuel_Type', 'Transmission', 'Owner_Type']\n",
    "for col in categorical_cols:\n",
    "    combined_data[col] = label_encoder.fit_transform(combined_data[col])"
   ]
  },
  {
   "cell_type": "code",
   "execution_count": 9,
   "metadata": {},
   "outputs": [],
   "source": [
    "# Perform one-hot encoding on the combined dataset\n",
    "onehot_encoder = OneHotEncoder(sparse_output=False)\n",
    "encoded_data = onehot_encoder.fit_transform(combined_data)"
   ]
  },
  {
   "cell_type": "code",
   "execution_count": 10,
   "metadata": {},
   "outputs": [],
   "source": [
    "# Split the combined data back into train and test datasets\n",
    "X_train = encoded_data[combined_data['Flag'] == 1, :-1]\n",
    "y_train = encoded_data[combined_data['Flag'] == 1, -1]\n",
    "X_test = encoded_data[combined_data['Flag'] == 0, :-1]"
   ]
  },
  {
   "cell_type": "code",
   "execution_count": 11,
   "metadata": {},
   "outputs": [],
   "source": [
    "# Fill missing values with 0\n",
    "X_train = np.nan_to_num(X_train)\n",
    "y_train = np.nan_to_num(y_train)\n",
    "X_test = np.nan_to_num(X_test)"
   ]
  },
  {
   "cell_type": "code",
   "execution_count": 12,
   "metadata": {},
   "outputs": [],
   "source": [
    "# Scale the features\n",
    "scaler = StandardScaler()\n",
    "X_train_scaled = scaler.fit_transform(X_train)\n",
    "X_test_scaled = scaler.transform(X_test)"
   ]
  },
  {
   "cell_type": "code",
   "execution_count": 13,
   "metadata": {},
   "outputs": [],
   "source": [
    "# Build the ANN model with ReLU activation\n",
    "model = Sequential()\n",
    "model.add(Dense(128, activation='relu', input_dim=X_train_scaled.shape[1]))\n",
    "model.add(Dense(64, activation='relu'))\n",
    "model.add(Dense(1, activation='relu'))"
   ]
  },
  {
   "cell_type": "code",
   "execution_count": 14,
   "metadata": {},
   "outputs": [],
   "source": [
    "# Compile the model\n",
    "model.compile(optimizer='adam', loss='mean_squared_error')"
   ]
  },
  {
   "cell_type": "code",
   "execution_count": 15,
   "metadata": {},
   "outputs": [
    {
     "name": "stdout",
     "output_type": "stream",
     "text": [
      "Epoch 1/20\n",
      "121/121 [==============================] - 2s 10ms/step - loss: 0.3112\n",
      "Epoch 2/20\n",
      "121/121 [==============================] - 1s 10ms/step - loss: 0.3774\n",
      "Epoch 3/20\n",
      "121/121 [==============================] - 1s 11ms/step - loss: 0.3804\n",
      "Epoch 4/20\n",
      "121/121 [==============================] - 1s 12ms/step - loss: 0.1977\n",
      "Epoch 5/20\n",
      "121/121 [==============================] - 1s 10ms/step - loss: 0.1463\n",
      "Epoch 6/20\n",
      "121/121 [==============================] - 1s 11ms/step - loss: 0.0785\n",
      "Epoch 7/20\n",
      "121/121 [==============================] - 1s 10ms/step - loss: 0.0420\n",
      "Epoch 8/20\n",
      "121/121 [==============================] - 1s 10ms/step - loss: 0.0280\n",
      "Epoch 9/20\n",
      "121/121 [==============================] - 1s 10ms/step - loss: 0.0191\n",
      "Epoch 10/20\n",
      "121/121 [==============================] - 1s 11ms/step - loss: 0.0085\n",
      "Epoch 11/20\n",
      "121/121 [==============================] - 1s 11ms/step - loss: 0.0052\n",
      "Epoch 12/20\n",
      "121/121 [==============================] - 1s 11ms/step - loss: 0.0026\n",
      "Epoch 13/20\n",
      "121/121 [==============================] - 1s 12ms/step - loss: 0.0017\n",
      "Epoch 14/20\n",
      "121/121 [==============================] - 1s 11ms/step - loss: 0.0012\n",
      "Epoch 15/20\n",
      "121/121 [==============================] - 1s 11ms/step - loss: 9.6369e-04\n",
      "Epoch 16/20\n",
      "121/121 [==============================] - 1s 11ms/step - loss: 9.3200e-04\n",
      "Epoch 17/20\n",
      "121/121 [==============================] - 1s 11ms/step - loss: 9.4165e-04\n",
      "Epoch 18/20\n",
      "121/121 [==============================] - 1s 11ms/step - loss: 0.0010\n",
      "Epoch 19/20\n",
      "121/121 [==============================] - 2s 13ms/step - loss: 9.5257e-04\n",
      "Epoch 20/20\n",
      "121/121 [==============================] - 2s 13ms/step - loss: 0.0011\n"
     ]
    },
    {
     "data": {
      "text/plain": [
       "<keras.src.callbacks.History at 0x20544b88f90>"
      ]
     },
     "execution_count": 15,
     "metadata": {},
     "output_type": "execute_result"
    }
   ],
   "source": [
    "# Train the model\n",
    "model.fit(X_train_scaled, y_train, epochs=20, batch_size=50)"
   ]
  },
  {
   "cell_type": "code",
   "execution_count": 16,
   "metadata": {},
   "outputs": [
    {
     "name": "stdout",
     "output_type": "stream",
     "text": [
      "39/39 [==============================] - 0s 3ms/step\n"
     ]
    }
   ],
   "source": [
    "# Predict on the test data\n",
    "predictions = model.predict(X_test_scaled)"
   ]
  },
  {
   "cell_type": "code",
   "execution_count": 17,
   "metadata": {},
   "outputs": [
    {
     "name": "stdout",
     "output_type": "stream",
     "text": [
      "[[-0.01289062 -0.01289062 -0.01289062 ... -0.01289062  1.\n",
      "   1.        ]\n",
      " [-0.01289062 -0.01289062 -0.01289062 ... -0.01289062  1.\n",
      "   1.        ]\n",
      " [-0.01289062 -0.01289062 -0.01289062 ... -0.01289062  1.\n",
      "   1.        ]\n",
      " ...\n",
      " [-0.01289062 -0.01289062 -0.01289062 ... -0.01289062  1.\n",
      "   1.        ]\n",
      " [-0.01289062 -0.01289062 -0.01289062 ... -0.01289062  1.\n",
      "   1.        ]\n",
      " [-0.01289062 -0.01289062 -0.01289062 ... -0.01289062  1.\n",
      "   1.        ]]\n"
     ]
    }
   ],
   "source": [
    "print(X_test_scaled) #test input"
   ]
  },
  {
   "cell_type": "code",
   "execution_count": 18,
   "metadata": {},
   "outputs": [
    {
     "name": "stdout",
     "output_type": "stream",
     "text": [
      "[[0.6207665]\n",
      " [1.01826  ]\n",
      " [0.9858362]\n",
      " ...\n",
      " [1.0092154]\n",
      " [1.0295479]\n",
      " [1.0197406]]\n"
     ]
    }
   ],
   "source": [
    "# Print the predicted prices\n",
    "print(predictions) #response output"
   ]
  }
 ],
 "metadata": {
  "kernelspec": {
   "display_name": "Python 3",
   "language": "python",
   "name": "python3"
  },
  "language_info": {
   "codemirror_mode": {
    "name": "ipython",
    "version": 3
   },
   "file_extension": ".py",
   "mimetype": "text/x-python",
   "name": "python",
   "nbconvert_exporter": "python",
   "pygments_lexer": "ipython3",
   "version": "3.11.4"
  },
  "orig_nbformat": 4
 },
 "nbformat": 4,
 "nbformat_minor": 2
}
